{
 "cells": [
  {
   "cell_type": "code",
   "execution_count": null,
   "id": "fbd5674e",
   "metadata": {
    "slideshow": {
     "slide_type": "-"
    }
   },
   "outputs": [
    {
     "name": "stdout",
     "output_type": "stream",
     "text": [
      "ENTER Id's (Item_identifier & Outlet_identifier) here  FDW58   OUT049\n",
      "detailes:-  Snack Foods , Rs.107.8622 , Supermarket Type1 , 20.75g/Kg. , Low Fat , 1999\n",
      "Predicted Sale Rs.1740 \n",
      "\n",
      "\n",
      "\n",
      "ENTER Id's (Item_identifier & Outlet_identifier) here  FDW58   OUT049\n",
      "detailes:-  Snack Foods , Rs.107.8622 , Supermarket Type1 , 20.75g/Kg. , Low Fat , 1999\n",
      "Predicted Sale Rs.1740 \n",
      "\n",
      "\n",
      "\n",
      "ENTER Id's (Item_identifier & Outlet_identifier) here  "
     ]
    }
   ],
   "source": [
    "    import pandas as pd       #pandas library for data\n",
    "    import matplotlib.pyplot as plt   #matlpotlib library for visualization (but not used here (see LLD document))\n",
    "    import numpy as np     # numpy library for manipulation           \n",
    "    datatrain=pd.read_csv(r\"C:\\Users\\welcome\\Desktop\\Train.csv\")   #datasets..\n",
    "    datatest=pd.read_csv(r\"C:\\Users\\welcome\\Desktop\\Test.csv\")\n",
    "    datatest_filled=pd.read_excel(r\"C:\\Users\\welcome\\Desktop\\dummy_test.xlsx\")\n",
    "    op=datatest.iloc[:,[0,6,4,5,10,1,2,7]].values    #op dataset used for evaluate results wrt given input\n",
    "    x1=datatrain.iloc[:,[4,5,10]].values          # training dataset independent variables\n",
    "    y1=datatrain.iloc[:,-1].values                # training dataset dependent variable\n",
    "    x2=datatest.iloc[:,[4,5,10]].values           # testing dataset \n",
    "\n",
    "    from sklearn.preprocessing import LabelEncoder     #data preprocessing\n",
    "    b=LabelEncoder()                                    #label encorder encode the strings into lables(num)\n",
    "    x1[:,0]=b.fit_transform([i for i in x1[:,0]])\n",
    "    x2[:,0]=b.transform([i for i in x2[:,0]])\n",
    "    c=LabelEncoder()\n",
    "    x1[:,-1]=c.fit_transform([i for i in x1[:,-1]])\n",
    "    x2[:,-1]=c.fit_transform([i for i in x2[:,-1]])\n",
    "\n",
    "\n",
    "    from sklearn.linear_model import LinearRegression              #Algorithm part\n",
    "    from sklearn.preprocessing import PolynomialFeatures\n",
    "    re=PolynomialFeatures(degree=7) \n",
    "    Repoly=LinearRegression().fit(re.fit_transform(x1),y1)\n",
    "    while(True):\n",
    "            print(\"ENTER Id's (Item_identifier & Outlet_identifier) here \",end=\" \")\n",
    "            a=list(map(str,input().split('   ')))   #input\n",
    "            for i in op:\n",
    "                if (i[0]==a[0] and i[1]==a[1]):     # true if both id's matchs\n",
    "                    print(\"detailes:- \",i[2],\",\",\"Rs.\"+str(i[3]),\",\",i[4],\",\",str(i[5])+\"g/Kg.\",\",\",i[6],\",\",i[7])\n",
    "                    print(\"Predicted Sale Rs.\"+str(round(Repoly.predict(re.transform([[b.transform([i[2]])[0],i[3],c.transform([i[4]])[0]]]))[0])),\"\\n\\n\\n\")  #predicted part\n",
    "                    break\n",
    "\n",
    "\n",
    "#     datatest[\"Predicted_item_outlet_sale\"]=Repoly.predict(re.transform(x2))   # prediction of test dataset goes to PredictedTest.csv file\n",
    "#     datatest.to_csv(\"PredictedTest.csv\",index=False)   \n",
    "\n"
   ]
  }
 ],
 "metadata": {
  "kernelspec": {
   "display_name": "Python 3",
   "language": "python",
   "name": "python3"
  },
  "language_info": {
   "codemirror_mode": {
    "name": "ipython",
    "version": 3
   },
   "file_extension": ".py",
   "mimetype": "text/x-python",
   "name": "python",
   "nbconvert_exporter": "python",
   "pygments_lexer": "ipython3",
   "version": "3.8.8"
  }
 },
 "nbformat": 4,
 "nbformat_minor": 5
}
